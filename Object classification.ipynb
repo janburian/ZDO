{
  "nbformat": 4,
  "nbformat_minor": 0,
  "metadata": {
    "colab": {
      "provenance": []
    },
    "kernelspec": {
      "name": "python3",
      "display_name": "Python 3"
    },
    "language_info": {
      "name": "python"
    }
  },
  "cells": [
    {
      "cell_type": "markdown",
      "source": [
        "# Samostatná práce - cvičení č. 9 (ZDO)\n",
        "## Klasifikace objektů\n",
        "\n",
        "Jan Burian"
      ],
      "metadata": {
        "id": "FngYjtuu9za2"
      }
    },
    {
      "cell_type": "markdown",
      "source": [
        "## Imports"
      ],
      "metadata": {
        "id": "W6pzcdUE9Idi"
      }
    },
    {
      "cell_type": "code",
      "execution_count": 8,
      "metadata": {
        "id": "4ks5LEpo89wH"
      },
      "outputs": [],
      "source": [
        "import skimage\n",
        "import skimage.color\n",
        "import skimage.measure\n",
        "import numpy as np\n",
        "from matplotlib import pyplot as plt\n",
        "from sklearn import neighbors\n",
        "from skimage.feature import corner_fast, corner_peaks"
      ]
    },
    {
      "cell_type": "markdown",
      "source": [
        "## Methods\n"
      ],
      "metadata": {
        "id": "j3Rm0J-N9eHL"
      }
    },
    {
      "cell_type": "code",
      "source": [
        "def count_object_area(object):\n",
        "    number_white_pixels = 0\n",
        "    for i in range(len(object)):\n",
        "        for j in range(len(object[0])):\n",
        "            if object[i,j] == 1:\n",
        "                number_white_pixels += 1\n",
        "\n",
        "    return number_white_pixels\n",
        "\n",
        "\n",
        "def count_perimeter(object):\n",
        "    object_int = object.astype(int)\n",
        "    perimeter = skimage.measure.perimeter(object_int, 4)\n",
        "\n",
        "    return perimeter\n",
        "\n",
        "\n",
        "def get_train_data(classes):\n",
        "    train_data = []\n",
        "    for class_ in classes:\n",
        "        for object in class_:\n",
        "            features = count_object_features(object)\n",
        "            train_data.append(features)\n",
        "\n",
        "    return np.array(train_data)\n",
        "\n",
        "\n",
        "def count_object_features(object):\n",
        "    area = count_object_area(object)\n",
        "    perimeter = count_perimeter(object)\n",
        "    incompatibility = (perimeter ** 2) / area\n",
        "    # corners = corner_fast(object, n=10, threshold=0)\n",
        "    # number_corners = len(corner_peaks(corners))\n",
        "    # plt.imshow(corners)\n",
        "    # plt.show()\n",
        "    # features = [incompatibility, area, perimeter]\n",
        "    features = [incompatibility]\n",
        "    # plt.imshow(object)\n",
        "    # plt.show()\n",
        "\n",
        "    return features\n",
        "\n",
        "\n",
        "def get_target_data(classes):\n",
        "    target_data = []\n",
        "    index = -1\n",
        "    for class_ in classes:\n",
        "        index += 1\n",
        "        for i in range(len(class_)):\n",
        "            target_data.append(index)\n",
        "\n",
        "    return target_data\n",
        "\n",
        "\n",
        "def load_train_data(url: str):\n",
        "    # URL = \"http://uc452cam01-kky.fav.zcu.cz/snapshot.jpg\"\n",
        "    img = skimage.io.imread(url, as_gray=True)\n",
        "    # plt.imshow(img, cmap='gray')\n",
        "    # plt.show()\n",
        "\n",
        "    return img\n",
        "\n",
        "\n",
        "def load_test_data(test_data_url, filenames):\n",
        "    test_data = []\n",
        "    for filename in filenames:\n",
        "        img = skimage.io.imread(test_data_url + filename, as_gray=True)\n",
        "        test_data.append(img)\n",
        "\n",
        "    return test_data\n",
        "\n",
        "\n",
        "def get_features_test_data(test_data):\n",
        "    object_features = []\n",
        "    for test_img in test_data:\n",
        "        test_img_object_features = []\n",
        "        test_img_labeled = skimage.measure.label(test_img > 0.5)\n",
        "        number_labeled_objects = (test_img_labeled.max())  # 0 = background\n",
        "        # plt.imshow(test_img_labeled, cmap='gray')\n",
        "        # plt.show()\n",
        "        objects = []\n",
        "        for label in range(1, number_labeled_objects+1):\n",
        "            objects.append(test_img_labeled == label)\n",
        "\n",
        "        for object in objects:\n",
        "            features = count_object_features(object)\n",
        "            test_img_object_features.append(features)\n",
        "\n",
        "        object_features.append(test_img_object_features)\n",
        "\n",
        "    return np.array(object_features)\n",
        "\n",
        "\n",
        "def predict_data(knn, features_test_data, filenames, classes_str):\n",
        "    index = 0\n",
        "    for features in features_test_data:\n",
        "        predictions = []\n",
        "        for feature in features:\n",
        "            prediction = knn.predict([feature])\n",
        "            class_index = prediction[0]\n",
        "            object = classes_str[class_index]\n",
        "            predictions.append(object)\n",
        "        print(filenames[index] + \": \" + str(predictions))\n",
        "        index += 1\n",
        "\n",
        "def print_test_data():\n",
        "  pass"
      ],
      "metadata": {
        "id": "6lTCr0nO9hJI"
      },
      "execution_count": 9,
      "outputs": []
    },
    {
      "cell_type": "markdown",
      "source": [
        "### Training"
      ],
      "metadata": {
        "id": "PUsxYigf_Ti6"
      }
    },
    {
      "cell_type": "code",
      "source": [
        "# Loading training data\n",
        "URL = \"https://raw.githubusercontent.com/mjirik/ZDO/master/objekty/ctverce_hvezdy_kolecka.jpg\"\n",
        "img = load_train_data(URL)\n",
        "\n",
        "# Labelling objects\n",
        "img_labeled = skimage.measure.label(img > 0.5)\n",
        "plt.imshow(img_labeled, cmap='gray')\n",
        "plt.show()\n",
        "\n",
        "# test = skimage.measure.regionprops(img_labeled)\n",
        "\n",
        "# Extracting objects (0 = background)\n",
        "squares = [img_labeled == 1, img_labeled == 2, img_labeled == 3]\n",
        "stars = [img_labeled == 4, img_labeled == 5, img_labeled == 6]\n",
        "circles = [img_labeled == 7, img_labeled == 8, img_labeled == 9]\n",
        "\n",
        "# Classes (0 = square, 1 = star, 2 = circle)\n",
        "classes = np.array([squares, stars, circles])\n",
        "classes_str = [\"square\", \"star\", \"circle\"]\n",
        "\n",
        "# Training data\n",
        "train_data = get_train_data(classes)\n",
        "target_data = get_target_data(classes)\n",
        "\n",
        "print(train_data)"
      ],
      "metadata": {
        "colab": {
          "base_uri": "https://localhost:8080/",
          "height": 599
        },
        "id": "p8EtzNUW_TBn",
        "outputId": "1194b977-59c9-4d89-adfa-c43b6953a72a"
      },
      "execution_count": 10,
      "outputs": [
        {
          "output_type": "display_data",
          "data": {
            "text/plain": [
              "<Figure size 640x480 with 1 Axes>"
            ],
            "image/png": "[encoded data removed]"
          },
          "metadata": {}
        },
        {
          "output_type": "stream",
          "name": "stdout",
          "text": [
            "[[18.43017198]\n",
            " [18.4203992 ]\n",
            " [16.52882039]\n",
            " [51.82944879]\n",
            " [52.96671105]\n",
            " [51.33541013]\n",
            " [14.09650189]\n",
            " [13.98498911]\n",
            " [14.45219664]]\n"
          ]
        }
      ]
    },
    {
      "cell_type": "markdown",
      "source": [
        "### Classifier"
      ],
      "metadata": {
        "id": "THSJqRON_0uC"
      }
    },
    {
      "cell_type": "code",
      "source": [
        "# Classifier\n",
        "knn = neighbors.KNeighborsClassifier()\n",
        "knn.fit(train_data, target_data)\n"
      ],
      "metadata": {
        "colab": {
          "base_uri": "https://localhost:8080/",
          "height": 74
        },
        "id": "BR3ReM2X_vGQ",
        "outputId": "c9fa1a36-91ea-4f69-ca5e-6697b4803c29"
      },
      "execution_count": 11,
      "outputs": [
        {
          "output_type": "execute_result",
          "data": {
            "text/plain": [
              "KNeighborsClassifier()"
            ],
            "text/html": [
              "<style>#sk-container-id-2 {color: black;background-color: white;}#sk-container-id-2 pre{padding: 0;}#sk-container-id-2 div.sk-toggleable {background-color: white;}#sk-container-id-2 label.sk-toggleable__label {cursor: pointer;display: block;width: 100%;margin-bottom: 0;padding: 0.3em;box-sizing: border-box;text-align: center;}#sk-container-id-2 label.sk-toggleable__label-arrow:before {content: \"▸\";float: left;margin-right: 0.25em;color: #696969;}#sk-container-id-2 label.sk-toggleable__label-arrow:hover:before {color: black;}#sk-container-id-2 div.sk-estimator:hover label.sk-toggleable__label-arrow:before {color: black;}#sk-container-id-2 div.sk-toggleable__content {max-height: 0;max-width: 0;overflow: hidden;text-align: left;background-color: #f0f8ff;}#sk-container-id-2 div.sk-toggleable__content pre {margin: 0.2em;color: black;border-radius: 0.25em;background-color: #f0f8ff;}#sk-container-id-2 input.sk-toggleable__control:checked~div.sk-toggleable__content {max-height: 200px;max-width: 100%;overflow: auto;}#sk-container-id-2 input.sk-toggleable__control:checked~label.sk-toggleable__label-arrow:before {content: \"▾\";}#sk-container-id-2 div.sk-estimator input.sk-toggleable__control:checked~label.sk-toggleable__label {background-color: #d4ebff;}#sk-container-id-2 div.sk-label input.sk-toggleable__control:checked~label.sk-toggleable__label {background-color: #d4ebff;}#sk-container-id-2 input.sk-hidden--visually {border: 0;clip: rect(1px 1px 1px 1px);clip: rect(1px, 1px, 1px, 1px);height: 1px;margin: -1px;overflow: hidden;padding: 0;position: absolute;width: 1px;}#sk-container-id-2 div.sk-estimator {font-family: monospace;background-color: #f0f8ff;border: 1px dotted black;border-radius: 0.25em;box-sizing: border-box;margin-bottom: 0.5em;}#sk-container-id-2 div.sk-estimator:hover {background-color: #d4ebff;}#sk-container-id-2 div.sk-parallel-item::after {content: \"\";width: 100%;border-bottom: 1px solid gray;flex-grow: 1;}#sk-container-id-2 div.sk-label:hover label.sk-toggleable__label {background-color: #d4ebff;}#sk-container-id-2 div.sk-serial::before {content: \"\";position: absolute;border-left: 1px solid gray;box-sizing: border-box;top: 0;bottom: 0;left: 50%;z-index: 0;}#sk-container-id-2 div.sk-serial {display: flex;flex-direction: column;align-items: center;background-color: white;padding-right: 0.2em;padding-left: 0.2em;position: relative;}#sk-container-id-2 div.sk-item {position: relative;z-index: 1;}#sk-container-id-2 div.sk-parallel {display: flex;align-items: stretch;justify-content: center;background-color: white;position: relative;}#sk-container-id-2 div.sk-item::before, #sk-container-id-2 div.sk-parallel-item::before {content: \"\";position: absolute;border-left: 1px solid gray;box-sizing: border-box;top: 0;bottom: 0;left: 50%;z-index: -1;}#sk-container-id-2 div.sk-parallel-item {display: flex;flex-direction: column;z-index: 1;position: relative;background-color: white;}#sk-container-id-2 div.sk-parallel-item:first-child::after {align-self: flex-end;width: 50%;}#sk-container-id-2 div.sk-parallel-item:last-child::after {align-self: flex-start;width: 50%;}#sk-container-id-2 div.sk-parallel-item:only-child::after {width: 0;}#sk-container-id-2 div.sk-dashed-wrapped {border: 1px dashed gray;margin: 0 0.4em 0.5em 0.4em;box-sizing: border-box;padding-bottom: 0.4em;background-color: white;}#sk-container-id-2 div.sk-label label {font-family: monospace;font-weight: bold;display: inline-block;line-height: 1.2em;}#sk-container-id-2 div.sk-label-container {text-align: center;}#sk-container-id-2 div.sk-container {/* jupyter's `normalize.less` sets `[hidden] { display: none; }` but bootstrap.min.css set `[hidden] { display: none !important; }` so we also need the `!important` here to be able to override the default hidden behavior on the sphinx rendered scikit-learn.org. See: https://github.com/scikit-learn/scikit-learn/issues/21755 */display: inline-block !important;position: relative;}#sk-container-id-2 div.sk-text-repr-fallback {display: none;}</style><div id=\"sk-container-id-2\" class=\"sk-top-container\"><div class=\"sk-text-repr-fallback\"><pre>KNeighborsClassifier()</pre><b>In a Jupyter environment, please rerun this cell to show the HTML representation or trust the notebook. <br />On GitHub, the HTML representation is unable to render, please try loading this page with nbviewer.org.</b></div><div class=\"sk-container\" hidden><div class=\"sk-item\"><div class=\"sk-estimator sk-toggleable\"><input class=\"sk-toggleable__control sk-hidden--visually\" id=\"sk-estimator-id-2\" type=\"checkbox\" checked><label for=\"sk-estimator-id-2\" class=\"sk-toggleable__label sk-toggleable__label-arrow\">KNeighborsClassifier</label><div class=\"sk-toggleable__content\"><pre>KNeighborsClassifier()</pre></div></div></div></div></div>"
            ]
          },
          "metadata": {},
          "execution_count": 11
        }
      ]
    },
    {
      "cell_type": "markdown",
      "source": [
        "### Testing "
      ],
      "metadata": {
        "id": "cnvzthADAC7c"
      }
    },
    {
      "cell_type": "code",
      "source": [
        "# Testing data\n",
        "test_data_url = \"https://raw.githubusercontent.com/mjirik/ZDO/master/objekty/\"\n",
        "filenames = [\"01.jpg\", \"02.jpg\", \"03.jpg\", \"04.jpg\", \"05.jpg\", \"06.jpg\", \"07.jpg\", \"08.jpg\", \"09.jpg\",\n",
        "              \"10.jpg\", \"11.jpg\", \"12.jpg\", \"13.jpg\", \"14.jpg\", \"15.jpg\", \"16.jpg\", \"17.jpg\"]\n",
        "test_data = load_test_data(test_data_url, filenames)\n",
        "features_test_data = get_features_test_data(test_data)\n",
        "predict_data(knn, features_test_data, filenames, classes_str)"
      ],
      "metadata": {
        "colab": {
          "base_uri": "https://localhost:8080/"
        },
        "id": "DxZhz-5y_6vr",
        "outputId": "d3e5f9f7-a6a5-4f3a-cd5c-555fcf49ceac"
      },
      "execution_count": 12,
      "outputs": [
        {
          "output_type": "stream",
          "name": "stdout",
          "text": [
            "01.jpg: ['square', 'square', 'star', 'circle', 'circle', 'square', 'circle']\n",
            "02.jpg: ['square', 'circle', 'square', 'circle', 'circle', 'circle', 'circle', 'circle']\n",
            "03.jpg: ['square', 'circle', 'square', 'star']\n",
            "04.jpg: ['circle', 'square', 'circle', 'circle', 'square']\n",
            "05.jpg: ['square', 'star', 'star', 'square', 'circle', 'circle']\n",
            "06.jpg: ['square', 'circle', 'circle', 'square', 'square', 'circle', 'circle', 'circle']\n",
            "07.jpg: ['square', 'circle', 'square', 'circle', 'circle', 'circle', 'circle']\n",
            "08.jpg: ['star', 'circle', 'square', 'circle']\n",
            "09.jpg: ['square', 'square', 'square', 'circle', 'square', 'square', 'circle', 'circle']\n",
            "10.jpg: ['star', 'square', 'square', 'square', 'square', 'circle', 'circle', 'circle']\n",
            "11.jpg: ['square', 'star', 'circle', 'square']\n",
            "12.jpg: ['square', 'star', 'circle', 'circle']\n",
            "13.jpg: ['square', 'star', 'circle', 'square']\n",
            "14.jpg: ['square', 'circle', 'square', 'star']\n",
            "15.jpg: ['square', 'star', 'circle']\n",
            "16.jpg: ['square', 'star', 'circle']\n",
            "17.jpg: ['circle', 'circle', 'star', 'star', 'square']\n"
          ]
        },
        {
          "output_type": "stream",
          "name": "stderr",
          "text": [
            "<ipython-input-9-476a44203483>:91: VisibleDeprecationWarning: Creating an ndarray from ragged nested sequences (which is a list-or-tuple of lists-or-tuples-or ndarrays with different lengths or shapes) is deprecated. If you meant to do this, you must specify 'dtype=object' when creating the ndarray.\n",
            "  return np.array(object_features)\n"
          ]
        }
      ]
    }
  ]
}